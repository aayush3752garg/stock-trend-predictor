{
 "cells": [
  {
   "cell_type": "code",
   "execution_count": 2,
   "id": "7e3090a5",
   "metadata": {},
   "outputs": [],
   "source": [
    "import numpy as np\n",
    "import pandas as pd\n",
    "import matplotlib.pyplot as plt\n"
   ]
  },
  {
   "cell_type": "code",
   "execution_count": 3,
   "id": "a1842b71",
   "metadata": {},
   "outputs": [
    {
     "data": {
      "text/html": [
       "<div>\n",
       "<style scoped>\n",
       "    .dataframe tbody tr th:only-of-type {\n",
       "        vertical-align: middle;\n",
       "    }\n",
       "\n",
       "    .dataframe tbody tr th {\n",
       "        vertical-align: top;\n",
       "    }\n",
       "\n",
       "    .dataframe thead th {\n",
       "        text-align: right;\n",
       "    }\n",
       "</style>\n",
       "<table border=\"1\" class=\"dataframe\">\n",
       "  <thead>\n",
       "    <tr style=\"text-align: right;\">\n",
       "      <th></th>\n",
       "      <th>Date</th>\n",
       "      <th>Open</th>\n",
       "      <th>High</th>\n",
       "      <th>Low</th>\n",
       "      <th>Close</th>\n",
       "      <th>Adj Close</th>\n",
       "      <th>Volume</th>\n",
       "    </tr>\n",
       "  </thead>\n",
       "  <tbody>\n",
       "    <tr>\n",
       "      <th>0</th>\n",
       "      <td>2021-11-18</td>\n",
       "      <td>531.450012</td>\n",
       "      <td>534.200012</td>\n",
       "      <td>501.299988</td>\n",
       "      <td>509.700012</td>\n",
       "      <td>509.700012</td>\n",
       "      <td>47197742</td>\n",
       "    </tr>\n",
       "    <tr>\n",
       "      <th>1</th>\n",
       "      <td>2021-11-22</td>\n",
       "      <td>512.250000</td>\n",
       "      <td>512.250000</td>\n",
       "      <td>478.399994</td>\n",
       "      <td>486.100006</td>\n",
       "      <td>486.100006</td>\n",
       "      <td>40044849</td>\n",
       "    </tr>\n",
       "    <tr>\n",
       "      <th>2</th>\n",
       "      <td>2021-11-23</td>\n",
       "      <td>484.399994</td>\n",
       "      <td>499.350006</td>\n",
       "      <td>477.000000</td>\n",
       "      <td>495.500000</td>\n",
       "      <td>495.500000</td>\n",
       "      <td>27553684</td>\n",
       "    </tr>\n",
       "    <tr>\n",
       "      <th>3</th>\n",
       "      <td>2021-11-24</td>\n",
       "      <td>499.000000</td>\n",
       "      <td>501.799988</td>\n",
       "      <td>485.299988</td>\n",
       "      <td>488.649994</td>\n",
       "      <td>488.649994</td>\n",
       "      <td>20915837</td>\n",
       "    </tr>\n",
       "    <tr>\n",
       "      <th>4</th>\n",
       "      <td>2021-11-25</td>\n",
       "      <td>490.799988</td>\n",
       "      <td>495.149994</td>\n",
       "      <td>486.500000</td>\n",
       "      <td>492.750000</td>\n",
       "      <td>492.750000</td>\n",
       "      <td>15336539</td>\n",
       "    </tr>\n",
       "  </tbody>\n",
       "</table>\n",
       "</div>"
      ],
      "text/plain": [
       "         Date        Open        High         Low       Close   Adj Close  \\\n",
       "0  2021-11-18  531.450012  534.200012  501.299988  509.700012  509.700012   \n",
       "1  2021-11-22  512.250000  512.250000  478.399994  486.100006  486.100006   \n",
       "2  2021-11-23  484.399994  499.350006  477.000000  495.500000  495.500000   \n",
       "3  2021-11-24  499.000000  501.799988  485.299988  488.649994  488.649994   \n",
       "4  2021-11-25  490.799988  495.149994  486.500000  492.750000  492.750000   \n",
       "\n",
       "     Volume  \n",
       "0  47197742  \n",
       "1  40044849  \n",
       "2  27553684  \n",
       "3  20915837  \n",
       "4  15336539  "
      ]
     },
     "execution_count": 3,
     "metadata": {},
     "output_type": "execute_result"
    }
   ],
   "source": [
    "df=pd.read_csv(\"TATAMOTORS.NS.csv\")\n",
    "df.head()"
   ]
  },
  {
   "cell_type": "code",
   "execution_count": 4,
   "id": "c996136f",
   "metadata": {},
   "outputs": [
    {
     "data": {
      "text/html": [
       "<div>\n",
       "<style scoped>\n",
       "    .dataframe tbody tr th:only-of-type {\n",
       "        vertical-align: middle;\n",
       "    }\n",
       "\n",
       "    .dataframe tbody tr th {\n",
       "        vertical-align: top;\n",
       "    }\n",
       "\n",
       "    .dataframe thead th {\n",
       "        text-align: right;\n",
       "    }\n",
       "</style>\n",
       "<table border=\"1\" class=\"dataframe\">\n",
       "  <thead>\n",
       "    <tr style=\"text-align: right;\">\n",
       "      <th></th>\n",
       "      <th>Date</th>\n",
       "      <th>Open</th>\n",
       "      <th>High</th>\n",
       "      <th>Low</th>\n",
       "      <th>Close</th>\n",
       "      <th>Adj Close</th>\n",
       "      <th>Volume</th>\n",
       "    </tr>\n",
       "  </thead>\n",
       "  <tbody>\n",
       "    <tr>\n",
       "      <th>243</th>\n",
       "      <td>2022-11-11</td>\n",
       "      <td>420.000000</td>\n",
       "      <td>425.500000</td>\n",
       "      <td>414.700012</td>\n",
       "      <td>423.500000</td>\n",
       "      <td>423.500000</td>\n",
       "      <td>19296401</td>\n",
       "    </tr>\n",
       "    <tr>\n",
       "      <th>244</th>\n",
       "      <td>2022-11-14</td>\n",
       "      <td>424.000000</td>\n",
       "      <td>437.700012</td>\n",
       "      <td>423.500000</td>\n",
       "      <td>433.700012</td>\n",
       "      <td>433.700012</td>\n",
       "      <td>17996083</td>\n",
       "    </tr>\n",
       "    <tr>\n",
       "      <th>245</th>\n",
       "      <td>2022-11-15</td>\n",
       "      <td>434.899994</td>\n",
       "      <td>438.500000</td>\n",
       "      <td>434.100006</td>\n",
       "      <td>437.149994</td>\n",
       "      <td>437.149994</td>\n",
       "      <td>10696024</td>\n",
       "    </tr>\n",
       "    <tr>\n",
       "      <th>246</th>\n",
       "      <td>2022-11-16</td>\n",
       "      <td>436.950012</td>\n",
       "      <td>438.200012</td>\n",
       "      <td>429.600006</td>\n",
       "      <td>431.549988</td>\n",
       "      <td>431.549988</td>\n",
       "      <td>8206169</td>\n",
       "    </tr>\n",
       "    <tr>\n",
       "      <th>247</th>\n",
       "      <td>2022-11-17</td>\n",
       "      <td>422.000000</td>\n",
       "      <td>427.549988</td>\n",
       "      <td>419.600006</td>\n",
       "      <td>423.149994</td>\n",
       "      <td>423.149994</td>\n",
       "      <td>15621809</td>\n",
       "    </tr>\n",
       "  </tbody>\n",
       "</table>\n",
       "</div>"
      ],
      "text/plain": [
       "           Date        Open        High         Low       Close   Adj Close  \\\n",
       "243  2022-11-11  420.000000  425.500000  414.700012  423.500000  423.500000   \n",
       "244  2022-11-14  424.000000  437.700012  423.500000  433.700012  433.700012   \n",
       "245  2022-11-15  434.899994  438.500000  434.100006  437.149994  437.149994   \n",
       "246  2022-11-16  436.950012  438.200012  429.600006  431.549988  431.549988   \n",
       "247  2022-11-17  422.000000  427.549988  419.600006  423.149994  423.149994   \n",
       "\n",
       "       Volume  \n",
       "243  19296401  \n",
       "244  17996083  \n",
       "245  10696024  \n",
       "246   8206169  \n",
       "247  15621809  "
      ]
     },
     "execution_count": 4,
     "metadata": {},
     "output_type": "execute_result"
    }
   ],
   "source": [
    "df.tail()"
   ]
  },
  {
   "cell_type": "code",
   "execution_count": 5,
   "id": "cf601d40",
   "metadata": {},
   "outputs": [
    {
     "data": {
      "text/html": [
       "<div>\n",
       "<style scoped>\n",
       "    .dataframe tbody tr th:only-of-type {\n",
       "        vertical-align: middle;\n",
       "    }\n",
       "\n",
       "    .dataframe tbody tr th {\n",
       "        vertical-align: top;\n",
       "    }\n",
       "\n",
       "    .dataframe thead th {\n",
       "        text-align: right;\n",
       "    }\n",
       "</style>\n",
       "<table border=\"1\" class=\"dataframe\">\n",
       "  <thead>\n",
       "    <tr style=\"text-align: right;\">\n",
       "      <th></th>\n",
       "      <th>index</th>\n",
       "      <th>Date</th>\n",
       "      <th>Open</th>\n",
       "      <th>High</th>\n",
       "      <th>Low</th>\n",
       "      <th>Close</th>\n",
       "      <th>Adj Close</th>\n",
       "      <th>Volume</th>\n",
       "    </tr>\n",
       "  </thead>\n",
       "  <tbody>\n",
       "    <tr>\n",
       "      <th>0</th>\n",
       "      <td>0</td>\n",
       "      <td>2021-11-18</td>\n",
       "      <td>531.450012</td>\n",
       "      <td>534.200012</td>\n",
       "      <td>501.299988</td>\n",
       "      <td>509.700012</td>\n",
       "      <td>509.700012</td>\n",
       "      <td>47197742</td>\n",
       "    </tr>\n",
       "    <tr>\n",
       "      <th>1</th>\n",
       "      <td>1</td>\n",
       "      <td>2021-11-22</td>\n",
       "      <td>512.250000</td>\n",
       "      <td>512.250000</td>\n",
       "      <td>478.399994</td>\n",
       "      <td>486.100006</td>\n",
       "      <td>486.100006</td>\n",
       "      <td>40044849</td>\n",
       "    </tr>\n",
       "    <tr>\n",
       "      <th>2</th>\n",
       "      <td>2</td>\n",
       "      <td>2021-11-23</td>\n",
       "      <td>484.399994</td>\n",
       "      <td>499.350006</td>\n",
       "      <td>477.000000</td>\n",
       "      <td>495.500000</td>\n",
       "      <td>495.500000</td>\n",
       "      <td>27553684</td>\n",
       "    </tr>\n",
       "    <tr>\n",
       "      <th>3</th>\n",
       "      <td>3</td>\n",
       "      <td>2021-11-24</td>\n",
       "      <td>499.000000</td>\n",
       "      <td>501.799988</td>\n",
       "      <td>485.299988</td>\n",
       "      <td>488.649994</td>\n",
       "      <td>488.649994</td>\n",
       "      <td>20915837</td>\n",
       "    </tr>\n",
       "    <tr>\n",
       "      <th>4</th>\n",
       "      <td>4</td>\n",
       "      <td>2021-11-25</td>\n",
       "      <td>490.799988</td>\n",
       "      <td>495.149994</td>\n",
       "      <td>486.500000</td>\n",
       "      <td>492.750000</td>\n",
       "      <td>492.750000</td>\n",
       "      <td>15336539</td>\n",
       "    </tr>\n",
       "  </tbody>\n",
       "</table>\n",
       "</div>"
      ],
      "text/plain": [
       "   index        Date        Open        High         Low       Close  \\\n",
       "0      0  2021-11-18  531.450012  534.200012  501.299988  509.700012   \n",
       "1      1  2021-11-22  512.250000  512.250000  478.399994  486.100006   \n",
       "2      2  2021-11-23  484.399994  499.350006  477.000000  495.500000   \n",
       "3      3  2021-11-24  499.000000  501.799988  485.299988  488.649994   \n",
       "4      4  2021-11-25  490.799988  495.149994  486.500000  492.750000   \n",
       "\n",
       "    Adj Close    Volume  \n",
       "0  509.700012  47197742  \n",
       "1  486.100006  40044849  \n",
       "2  495.500000  27553684  \n",
       "3  488.649994  20915837  \n",
       "4  492.750000  15336539  "
      ]
     },
     "execution_count": 5,
     "metadata": {},
     "output_type": "execute_result"
    }
   ],
   "source": [
    "df=df.reset_index()\n",
    "df.head()"
   ]
  },
  {
   "cell_type": "code",
   "execution_count": 6,
   "id": "4138d7af",
   "metadata": {},
   "outputs": [
    {
     "data": {
      "text/html": [
       "<div>\n",
       "<style scoped>\n",
       "    .dataframe tbody tr th:only-of-type {\n",
       "        vertical-align: middle;\n",
       "    }\n",
       "\n",
       "    .dataframe tbody tr th {\n",
       "        vertical-align: top;\n",
       "    }\n",
       "\n",
       "    .dataframe thead th {\n",
       "        text-align: right;\n",
       "    }\n",
       "</style>\n",
       "<table border=\"1\" class=\"dataframe\">\n",
       "  <thead>\n",
       "    <tr style=\"text-align: right;\">\n",
       "      <th></th>\n",
       "      <th>index</th>\n",
       "      <th>Open</th>\n",
       "      <th>High</th>\n",
       "      <th>Low</th>\n",
       "      <th>Close</th>\n",
       "      <th>Volume</th>\n",
       "    </tr>\n",
       "  </thead>\n",
       "  <tbody>\n",
       "    <tr>\n",
       "      <th>0</th>\n",
       "      <td>0</td>\n",
       "      <td>531.450012</td>\n",
       "      <td>534.200012</td>\n",
       "      <td>501.299988</td>\n",
       "      <td>509.700012</td>\n",
       "      <td>47197742</td>\n",
       "    </tr>\n",
       "    <tr>\n",
       "      <th>1</th>\n",
       "      <td>1</td>\n",
       "      <td>512.250000</td>\n",
       "      <td>512.250000</td>\n",
       "      <td>478.399994</td>\n",
       "      <td>486.100006</td>\n",
       "      <td>40044849</td>\n",
       "    </tr>\n",
       "    <tr>\n",
       "      <th>2</th>\n",
       "      <td>2</td>\n",
       "      <td>484.399994</td>\n",
       "      <td>499.350006</td>\n",
       "      <td>477.000000</td>\n",
       "      <td>495.500000</td>\n",
       "      <td>27553684</td>\n",
       "    </tr>\n",
       "    <tr>\n",
       "      <th>3</th>\n",
       "      <td>3</td>\n",
       "      <td>499.000000</td>\n",
       "      <td>501.799988</td>\n",
       "      <td>485.299988</td>\n",
       "      <td>488.649994</td>\n",
       "      <td>20915837</td>\n",
       "    </tr>\n",
       "    <tr>\n",
       "      <th>4</th>\n",
       "      <td>4</td>\n",
       "      <td>490.799988</td>\n",
       "      <td>495.149994</td>\n",
       "      <td>486.500000</td>\n",
       "      <td>492.750000</td>\n",
       "      <td>15336539</td>\n",
       "    </tr>\n",
       "  </tbody>\n",
       "</table>\n",
       "</div>"
      ],
      "text/plain": [
       "   index        Open        High         Low       Close    Volume\n",
       "0      0  531.450012  534.200012  501.299988  509.700012  47197742\n",
       "1      1  512.250000  512.250000  478.399994  486.100006  40044849\n",
       "2      2  484.399994  499.350006  477.000000  495.500000  27553684\n",
       "3      3  499.000000  501.799988  485.299988  488.649994  20915837\n",
       "4      4  490.799988  495.149994  486.500000  492.750000  15336539"
      ]
     },
     "execution_count": 6,
     "metadata": {},
     "output_type": "execute_result"
    }
   ],
   "source": [
    "df=df.drop([\"Date\",\"Adj Close\"],axis=1)\n",
    "df.head()"
   ]
  },
  {
   "cell_type": "code",
   "execution_count": 7,
   "id": "1acc4f9a",
   "metadata": {},
   "outputs": [
    {
     "data": {
      "text/plain": [
       "[<matplotlib.lines.Line2D at 0x2abb55e6a60>]"
      ]
     },
     "execution_count": 7,
     "metadata": {},
     "output_type": "execute_result"
    },
    {
     "data": {
      "image/png": "[encoded data removed]",
      "text/plain": [
       "<Figure size 432x288 with 1 Axes>"
      ]
     },
     "metadata": {
      "needs_background": "light"
     },
     "output_type": "display_data"
    }
   ],
   "source": [
    "plt.plot(df.Close)"
   ]
  },
  {
   "cell_type": "code",
   "execution_count": 8,
   "id": "1173f1ac",
   "metadata": {},
   "outputs": [
    {
     "data": {
      "text/html": [
       "<div>\n",
       "<style scoped>\n",
       "    .dataframe tbody tr th:only-of-type {\n",
       "        vertical-align: middle;\n",
       "    }\n",
       "\n",
       "    .dataframe tbody tr th {\n",
       "        vertical-align: top;\n",
       "    }\n",
       "\n",
       "    .dataframe thead th {\n",
       "        text-align: right;\n",
       "    }\n",
       "</style>\n",
       "<table border=\"1\" class=\"dataframe\">\n",
       "  <thead>\n",
       "    <tr style=\"text-align: right;\">\n",
       "      <th></th>\n",
       "      <th>index</th>\n",
       "      <th>Open</th>\n",
       "      <th>High</th>\n",
       "      <th>Low</th>\n",
       "      <th>Close</th>\n",
       "      <th>Volume</th>\n",
       "    </tr>\n",
       "  </thead>\n",
       "  <tbody>\n",
       "    <tr>\n",
       "      <th>0</th>\n",
       "      <td>0</td>\n",
       "      <td>531.450012</td>\n",
       "      <td>534.200012</td>\n",
       "      <td>501.299988</td>\n",
       "      <td>509.700012</td>\n",
       "      <td>47197742</td>\n",
       "    </tr>\n",
       "    <tr>\n",
       "      <th>1</th>\n",
       "      <td>1</td>\n",
       "      <td>512.250000</td>\n",
       "      <td>512.250000</td>\n",
       "      <td>478.399994</td>\n",
       "      <td>486.100006</td>\n",
       "      <td>40044849</td>\n",
       "    </tr>\n",
       "    <tr>\n",
       "      <th>2</th>\n",
       "      <td>2</td>\n",
       "      <td>484.399994</td>\n",
       "      <td>499.350006</td>\n",
       "      <td>477.000000</td>\n",
       "      <td>495.500000</td>\n",
       "      <td>27553684</td>\n",
       "    </tr>\n",
       "    <tr>\n",
       "      <th>3</th>\n",
       "      <td>3</td>\n",
       "      <td>499.000000</td>\n",
       "      <td>501.799988</td>\n",
       "      <td>485.299988</td>\n",
       "      <td>488.649994</td>\n",
       "      <td>20915837</td>\n",
       "    </tr>\n",
       "    <tr>\n",
       "      <th>4</th>\n",
       "      <td>4</td>\n",
       "      <td>490.799988</td>\n",
       "      <td>495.149994</td>\n",
       "      <td>486.500000</td>\n",
       "      <td>492.750000</td>\n",
       "      <td>15336539</td>\n",
       "    </tr>\n",
       "    <tr>\n",
       "      <th>...</th>\n",
       "      <td>...</td>\n",
       "      <td>...</td>\n",
       "      <td>...</td>\n",
       "      <td>...</td>\n",
       "      <td>...</td>\n",
       "      <td>...</td>\n",
       "    </tr>\n",
       "    <tr>\n",
       "      <th>243</th>\n",
       "      <td>243</td>\n",
       "      <td>420.000000</td>\n",
       "      <td>425.500000</td>\n",
       "      <td>414.700012</td>\n",
       "      <td>423.500000</td>\n",
       "      <td>19296401</td>\n",
       "    </tr>\n",
       "    <tr>\n",
       "      <th>244</th>\n",
       "      <td>244</td>\n",
       "      <td>424.000000</td>\n",
       "      <td>437.700012</td>\n",
       "      <td>423.500000</td>\n",
       "      <td>433.700012</td>\n",
       "      <td>17996083</td>\n",
       "    </tr>\n",
       "    <tr>\n",
       "      <th>245</th>\n",
       "      <td>245</td>\n",
       "      <td>434.899994</td>\n",
       "      <td>438.500000</td>\n",
       "      <td>434.100006</td>\n",
       "      <td>437.149994</td>\n",
       "      <td>10696024</td>\n",
       "    </tr>\n",
       "    <tr>\n",
       "      <th>246</th>\n",
       "      <td>246</td>\n",
       "      <td>436.950012</td>\n",
       "      <td>438.200012</td>\n",
       "      <td>429.600006</td>\n",
       "      <td>431.549988</td>\n",
       "      <td>8206169</td>\n",
       "    </tr>\n",
       "    <tr>\n",
       "      <th>247</th>\n",
       "      <td>247</td>\n",
       "      <td>422.000000</td>\n",
       "      <td>427.549988</td>\n",
       "      <td>419.600006</td>\n",
       "      <td>423.149994</td>\n",
       "      <td>15621809</td>\n",
       "    </tr>\n",
       "  </tbody>\n",
       "</table>\n",
       "<p>248 rows × 6 columns</p>\n",
       "</div>"
      ],
      "text/plain": [
       "     index        Open        High         Low       Close    Volume\n",
       "0        0  531.450012  534.200012  501.299988  509.700012  47197742\n",
       "1        1  512.250000  512.250000  478.399994  486.100006  40044849\n",
       "2        2  484.399994  499.350006  477.000000  495.500000  27553684\n",
       "3        3  499.000000  501.799988  485.299988  488.649994  20915837\n",
       "4        4  490.799988  495.149994  486.500000  492.750000  15336539\n",
       "..     ...         ...         ...         ...         ...       ...\n",
       "243    243  420.000000  425.500000  414.700012  423.500000  19296401\n",
       "244    244  424.000000  437.700012  423.500000  433.700012  17996083\n",
       "245    245  434.899994  438.500000  434.100006  437.149994  10696024\n",
       "246    246  436.950012  438.200012  429.600006  431.549988   8206169\n",
       "247    247  422.000000  427.549988  419.600006  423.149994  15621809\n",
       "\n",
       "[248 rows x 6 columns]"
      ]
     },
     "execution_count": 8,
     "metadata": {},
     "output_type": "execute_result"
    }
   ],
   "source": [
    "df\n"
   ]
  },
  {
   "cell_type": "code",
   "execution_count": 9,
   "id": "14ebed93",
   "metadata": {},
   "outputs": [
    {
     "data": {
      "text/plain": [
       "0           NaN\n",
       "1           NaN\n",
       "2           NaN\n",
       "3           NaN\n",
       "4           NaN\n",
       "         ...   \n",
       "243    432.2310\n",
       "244    432.6785\n",
       "245    433.2230\n",
       "246    433.5625\n",
       "247    433.8630\n",
       "Name: Close, Length: 248, dtype: float64"
      ]
     },
     "execution_count": 9,
     "metadata": {},
     "output_type": "execute_result"
    }
   ],
   "source": [
    "ma100=df.Close.rolling(100).mean()\n",
    "ma100"
   ]
  },
  {
   "cell_type": "code",
   "execution_count": 10,
   "id": "4e05943b",
   "metadata": {},
   "outputs": [
    {
     "data": {
      "text/plain": [
       "[<matplotlib.lines.Line2D at 0x2abb7706340>]"
      ]
     },
     "execution_count": 10,
     "metadata": {},
     "output_type": "execute_result"
    },
    {
     "data": {
      "image/png": "[encoded data removed]",
      "text/plain": [
       "<Figure size 864x432 with 1 Axes>"
      ]
     },
     "metadata": {
      "needs_background": "light"
     },
     "output_type": "display_data"
    }
   ],
   "source": [
    "plt.figure(figsize=(12,6))\n",
    "plt.plot(df.Close)\n",
    "plt.plot(ma100,\"r\")"
   ]
  },
  {
   "cell_type": "code",
   "execution_count": 11,
   "id": "265011bb",
   "metadata": {},
   "outputs": [
    {
     "data": {
      "text/plain": [
       "0           NaN\n",
       "1           NaN\n",
       "2           NaN\n",
       "3           NaN\n",
       "4           NaN\n",
       "         ...   \n",
       "243    432.2310\n",
       "244    432.6785\n",
       "245    433.2230\n",
       "246    433.5625\n",
       "247    433.8630\n",
       "Name: Close, Length: 248, dtype: float64"
      ]
     },
     "execution_count": 11,
     "metadata": {},
     "output_type": "execute_result"
    }
   ],
   "source": [
    "ma200=df.Close.rolling(100).mean()\n",
    "ma200"
   ]
  },
  {
   "cell_type": "code",
   "execution_count": 12,
   "id": "38f70bf5",
   "metadata": {},
   "outputs": [
    {
     "data": {
      "text/plain": [
       "[<matplotlib.lines.Line2D at 0x2abb7775d00>]"
      ]
     },
     "execution_count": 12,
     "metadata": {},
     "output_type": "execute_result"
    },
    {
     "data": {
      "image/png": "[encoded data removed]",
      "text/plain": [
       "<Figure size 864x432 with 1 Axes>"
      ]
     },
     "metadata": {
      "needs_background": "light"
     },
     "output_type": "display_data"
    }
   ],
   "source": [
    "plt.figure(figsize=(12,6))\n",
    "plt.plot(df.Close)\n",
    "plt.plot(ma100,'r')\n",
    "plt.plot(ma200,'g')"
   ]
  },
  {
   "cell_type": "code",
   "execution_count": 13,
   "id": "1d41c38a",
   "metadata": {},
   "outputs": [
    {
     "data": {
      "text/plain": [
       "(248, 6)"
      ]
     },
     "execution_count": 13,
     "metadata": {},
     "output_type": "execute_result"
    }
   ],
   "source": [
    "df.shape"
   ]
  },
  {
   "cell_type": "code",
   "execution_count": 14,
   "id": "78035d8d",
   "metadata": {},
   "outputs": [
    {
     "name": "stdout",
     "output_type": "stream",
     "text": [
      "(173, 1)\n",
      "(75, 1)\n"
     ]
    }
   ],
   "source": [
    "#split\n",
    "data_training=pd.DataFrame(df['Close'][0:int(len(df)*0.70)])\n",
    "data_testing=pd.DataFrame(df[\"Close\"][int(len(df)*0.70):int(len(df))])\n",
    "print(data_training.shape)\n",
    "print(data_testing.shape)"
   ]
  },
  {
   "cell_type": "code",
   "execution_count": 15,
   "id": "9c0fff91",
   "metadata": {},
   "outputs": [
    {
     "data": {
      "text/html": [
       "<div>\n",
       "<style scoped>\n",
       "    .dataframe tbody tr th:only-of-type {\n",
       "        vertical-align: middle;\n",
       "    }\n",
       "\n",
       "    .dataframe tbody tr th {\n",
       "        vertical-align: top;\n",
       "    }\n",
       "\n",
       "    .dataframe thead th {\n",
       "        text-align: right;\n",
       "    }\n",
       "</style>\n",
       "<table border=\"1\" class=\"dataframe\">\n",
       "  <thead>\n",
       "    <tr style=\"text-align: right;\">\n",
       "      <th></th>\n",
       "      <th>Close</th>\n",
       "    </tr>\n",
       "  </thead>\n",
       "  <tbody>\n",
       "    <tr>\n",
       "      <th>0</th>\n",
       "      <td>509.700012</td>\n",
       "    </tr>\n",
       "    <tr>\n",
       "      <th>1</th>\n",
       "      <td>486.100006</td>\n",
       "    </tr>\n",
       "    <tr>\n",
       "      <th>2</th>\n",
       "      <td>495.500000</td>\n",
       "    </tr>\n",
       "    <tr>\n",
       "      <th>3</th>\n",
       "      <td>488.649994</td>\n",
       "    </tr>\n",
       "    <tr>\n",
       "      <th>4</th>\n",
       "      <td>492.750000</td>\n",
       "    </tr>\n",
       "  </tbody>\n",
       "</table>\n",
       "</div>"
      ],
      "text/plain": [
       "        Close\n",
       "0  509.700012\n",
       "1  486.100006\n",
       "2  495.500000\n",
       "3  488.649994\n",
       "4  492.750000"
      ]
     },
     "execution_count": 15,
     "metadata": {},
     "output_type": "execute_result"
    }
   ],
   "source": [
    "data_training.head()"
   ]
  },
  {
   "cell_type": "code",
   "execution_count": 16,
   "id": "dfc83ca0",
   "metadata": {},
   "outputs": [
    {
     "data": {
      "text/html": [
       "<div>\n",
       "<style scoped>\n",
       "    .dataframe tbody tr th:only-of-type {\n",
       "        vertical-align: middle;\n",
       "    }\n",
       "\n",
       "    .dataframe tbody tr th {\n",
       "        vertical-align: top;\n",
       "    }\n",
       "\n",
       "    .dataframe thead th {\n",
       "        text-align: right;\n",
       "    }\n",
       "</style>\n",
       "<table border=\"1\" class=\"dataframe\">\n",
       "  <thead>\n",
       "    <tr style=\"text-align: right;\">\n",
       "      <th></th>\n",
       "      <th>Close</th>\n",
       "    </tr>\n",
       "  </thead>\n",
       "  <tbody>\n",
       "    <tr>\n",
       "      <th>173</th>\n",
       "      <td>442.250000</td>\n",
       "    </tr>\n",
       "    <tr>\n",
       "      <th>174</th>\n",
       "      <td>449.600006</td>\n",
       "    </tr>\n",
       "    <tr>\n",
       "      <th>175</th>\n",
       "      <td>479.200012</td>\n",
       "    </tr>\n",
       "    <tr>\n",
       "      <th>176</th>\n",
       "      <td>476.250000</td>\n",
       "    </tr>\n",
       "    <tr>\n",
       "      <th>177</th>\n",
       "      <td>467.799988</td>\n",
       "    </tr>\n",
       "  </tbody>\n",
       "</table>\n",
       "</div>"
      ],
      "text/plain": [
       "          Close\n",
       "173  442.250000\n",
       "174  449.600006\n",
       "175  479.200012\n",
       "176  476.250000\n",
       "177  467.799988"
      ]
     },
     "execution_count": 16,
     "metadata": {},
     "output_type": "execute_result"
    }
   ],
   "source": [
    "data_testing.head()"
   ]
  },
  {
   "cell_type": "code",
   "execution_count": 17,
   "id": "6cff13e2",
   "metadata": {},
   "outputs": [],
   "source": [
    "from sklearn.preprocessing import MinMaxScaler\n",
    "scaler=MinMaxScaler(feature_range=(0,1))"
   ]
  },
  {
   "cell_type": "code",
   "execution_count": 18,
   "id": "b621148d",
   "metadata": {},
   "outputs": [
    {
     "data": {
      "text/plain": [
       "array([[0.89980362],\n",
       "       [0.74525219],\n",
       "       [0.80681076],\n",
       "       [0.76195152],\n",
       "       [0.78880159],\n",
       "       [0.57563862],\n",
       "       [0.5838246 ],\n",
       "       [0.56516052],\n",
       "       [0.6741978 ],\n",
       "       [0.69941067],\n",
       "       [0.70595946],\n",
       "       [0.62148013],\n",
       "       [0.71709228],\n",
       "       [0.79633266],\n",
       "       [0.79666021],\n",
       "       [0.79993461],\n",
       "       [0.80582848],\n",
       "       [0.76686311],\n",
       "       [0.78159788],\n",
       "       [0.78356264],\n",
       "       [0.6411265 ],\n",
       "       [0.4895219 ],\n",
       "       [0.53241658],\n",
       "       [0.64309106],\n",
       "       [0.65520635],\n",
       "       [0.62409961],\n",
       "       [0.64734773],\n",
       "       [0.70661438],\n",
       "       [0.67910939],\n",
       "       [0.64243614],\n",
       "       [0.72102159],\n",
       "       [0.82056325],\n",
       "       [0.76817295],\n",
       "       [0.76915522],\n",
       "       [0.76326135],\n",
       "       [0.77472173],\n",
       "       [0.8605109 ],\n",
       "       [0.84479365],\n",
       "       [0.88375901],\n",
       "       [0.9145384 ],\n",
       "       [0.90111326],\n",
       "       [1.        ],\n",
       "       [0.90700713],\n",
       "       [0.97282237],\n",
       "       [0.93909635],\n",
       "       [0.8483956 ],\n",
       "       [0.695154  ],\n",
       "       [0.77439418],\n",
       "       [0.79960705],\n",
       "       [0.81859849],\n",
       "       [0.95252129],\n",
       "       [0.86444001],\n",
       "       [0.8781925 ],\n",
       "       [0.86574985],\n",
       "       [0.84020961],\n",
       "       [0.80091689],\n",
       "       [0.78880159],\n",
       "       [0.84446629],\n",
       "       [0.88506885],\n",
       "       [0.82874923],\n",
       "       [0.64931248],\n",
       "       [0.86247545],\n",
       "       [0.82612976],\n",
       "       [0.83595294],\n",
       "       [0.79142106],\n",
       "       [0.79993461],\n",
       "       [0.69384416],\n",
       "       [0.68565818],\n",
       "       [0.36444021],\n",
       "       [0.57269159],\n",
       "       [0.53536342],\n",
       "       [0.49312385],\n",
       "       [0.42436158],\n",
       "       [0.2943681 ],\n",
       "       [0.14210878],\n",
       "       [0.127374  ],\n",
       "       [0.22003931],\n",
       "       [0.30975779],\n",
       "       [0.30026197],\n",
       "       [0.2580224 ],\n",
       "       [0.27079242],\n",
       "       [0.34446629],\n",
       "       [0.40275046],\n",
       "       [0.36444021],\n",
       "       [0.44564514],\n",
       "       [0.41584804],\n",
       "       [0.39882134],\n",
       "       [0.39161764],\n",
       "       [0.39554695],\n",
       "       [0.40209574],\n",
       "       [0.41486576],\n",
       "       [0.4024231 ],\n",
       "       [0.45088409],\n",
       "       [0.48755734],\n",
       "       [0.56155857],\n",
       "       [0.54911591],\n",
       "       [0.50556651],\n",
       "       [0.52226584],\n",
       "       [0.52226584],\n",
       "       [0.43222001],\n",
       "       [0.38474129],\n",
       "       [0.40275046],\n",
       "       [0.34479384],\n",
       "       [0.44695478],\n",
       "       [0.49607069],\n",
       "       [0.43582196],\n",
       "       [0.34610348],\n",
       "       [0.40995417],\n",
       "       [0.37950234],\n",
       "       [0.41748523],\n",
       "       [0.42763597],\n",
       "       [0.39652923],\n",
       "       [0.33529802],\n",
       "       [0.35363455],\n",
       "       [0.23739356],\n",
       "       [0.2072693 ],\n",
       "       [0.127374  ],\n",
       "       [0.10379833],\n",
       "       [0.        ],\n",
       "       [0.20956121],\n",
       "       [0.21643756],\n",
       "       [0.33955469],\n",
       "       [0.2806156 ],\n",
       "       [0.1725606 ],\n",
       "       [0.29927969],\n",
       "       [0.32187309],\n",
       "       [0.3500328 ],\n",
       "       [0.2927309 ],\n",
       "       [0.31663394],\n",
       "       [0.37524567],\n",
       "       [0.45907008],\n",
       "       [0.46660114],\n",
       "       [0.47347749],\n",
       "       [0.43778651],\n",
       "       [0.3903078 ],\n",
       "       [0.39325483],\n",
       "       [0.41617559],\n",
       "       [0.41486576],\n",
       "       [0.36804196],\n",
       "       [0.36509493],\n",
       "       [0.22527846],\n",
       "       [0.21512772],\n",
       "       [0.27373945],\n",
       "       [0.13523263],\n",
       "       [0.10903748],\n",
       "       [0.06810755],\n",
       "       [0.16568445],\n",
       "       [0.13621491],\n",
       "       [0.22855286],\n",
       "       [0.24230515],\n",
       "       [0.27635893],\n",
       "       [0.29338582],\n",
       "       [0.29240354],\n",
       "       [0.25867712],\n",
       "       [0.26457119],\n",
       "       [0.23673884],\n",
       "       [0.25998696],\n",
       "       [0.28847423],\n",
       "       [0.38343165],\n",
       "       [0.45350357],\n",
       "       [0.42403402],\n",
       "       [0.3814669 ],\n",
       "       [0.3588737 ],\n",
       "       [0.36509493],\n",
       "       [0.44466286],\n",
       "       [0.51473477],\n",
       "       [0.50261948],\n",
       "       [0.5314343 ],\n",
       "       [0.54060256],\n",
       "       [0.54092992],\n",
       "       [0.50589387],\n",
       "       [0.45088409],\n",
       "       [0.46987554]])"
      ]
     },
     "execution_count": 18,
     "metadata": {},
     "output_type": "execute_result"
    }
   ],
   "source": [
    "data_training_array=scaler.fit_transform(data_training)\n",
    "data_training_array"
   ]
  },
  {
   "cell_type": "code",
   "execution_count": 19,
   "id": "cf9e93bb",
   "metadata": {},
   "outputs": [],
   "source": [
    "x_train=[]\n",
    "y_train=[]\n",
    "for i in range(100,data_training_array.shape[0]):\n",
    "    x_train.append(data_training_array[i-100:i])\n",
    "    y_train.append(data_training_array[i,0])\n",
    "x_train,y_train=np.array(x_train),np.array(y_train)"
   ]
  },
  {
   "cell_type": "code",
   "execution_count": 20,
   "id": "d6133bda",
   "metadata": {},
   "outputs": [],
   "source": [
    "#ml model\n",
    "from keras.layers import Dense,Dropout,LSTM\n",
    "from keras.models import Sequential"
   ]
  },
  {
   "cell_type": "code",
   "execution_count": 21,
   "id": "f69511f9",
   "metadata": {},
   "outputs": [],
   "source": [
    "model=Sequential()\n",
    "model.add(LSTM(units=50,activation=\"relu\",return_sequences=True,\n",
    "               input_shape=(x_train.shape[1],1)))\n",
    "model.add(Dropout(0.2))\n",
    "model.add(LSTM(units=60,activation=\"relu\",return_sequences=True))\n",
    "               \n",
    "model.add(Dropout(0.3))\n",
    "model.add(LSTM(units=80,activation=\"relu\",return_sequences=True))\n",
    "               \n",
    "model.add(Dropout(0.4))\n",
    "model.add(LSTM(units=120,activation=\"relu\"))\n",
    "model.add(Dropout(0.5))\n",
    "\n",
    "model.add(Dense(units=1))\n"
   ]
  },
  {
   "cell_type": "code",
   "execution_count": 22,
   "id": "31927b8c",
   "metadata": {},
   "outputs": [
    {
     "name": "stdout",
     "output_type": "stream",
     "text": [
      "Model: \"sequential\"\n",
      "_________________________________________________________________\n",
      " Layer (type)                Output Shape              Param #   \n",
      "=================================================================\n",
      " lstm (LSTM)                 (None, 100, 50)           10400     \n",
      "                                                                 \n",
      " dropout (Dropout)           (None, 100, 50)           0         \n",
      "                                                                 \n",
      " lstm_1 (LSTM)               (None, 100, 60)           26640     \n",
      "                                                                 \n",
      " dropout_1 (Dropout)         (None, 100, 60)           0         \n",
      "                                                                 \n",
      " lstm_2 (LSTM)               (None, 100, 80)           45120     \n",
      "                                                                 \n",
      " dropout_2 (Dropout)         (None, 100, 80)           0         \n",
      "                                                                 \n",
      " lstm_3 (LSTM)               (None, 120)               96480     \n",
      "                                                                 \n",
      " dropout_3 (Dropout)         (None, 120)               0         \n",
      "                                                                 \n",
      " dense (Dense)               (None, 1)                 121       \n",
      "                                                                 \n",
      "=================================================================\n",
      "Total params: 178,761\n",
      "Trainable params: 178,761\n",
      "Non-trainable params: 0\n",
      "_________________________________________________________________\n"
     ]
    }
   ],
   "source": [
    "model.summary()"
   ]
  },
  {
   "cell_type": "code",
   "execution_count": 23,
   "id": "1dea927a",
   "metadata": {},
   "outputs": [
    {
     "name": "stdout",
     "output_type": "stream",
     "text": [
      "Epoch 1/50\n",
      "3/3 [==============================] - 4s 174ms/step - loss: 0.1233\n",
      "Epoch 2/50\n",
      "3/3 [==============================] - 1s 160ms/step - loss: 0.0961\n",
      "Epoch 3/50\n",
      "3/3 [==============================] - 1s 172ms/step - loss: 0.0492\n",
      "Epoch 4/50\n",
      "3/3 [==============================] - 1s 180ms/step - loss: 0.0210\n",
      "Epoch 5/50\n",
      "3/3 [==============================] - 1s 180ms/step - loss: 0.0273\n",
      "Epoch 6/50\n",
      "3/3 [==============================] - 1s 172ms/step - loss: 0.0204\n",
      "Epoch 7/50\n",
      "3/3 [==============================] - 1s 180ms/step - loss: 0.0235\n",
      "Epoch 8/50\n",
      "3/3 [==============================] - 1s 172ms/step - loss: 0.0244\n",
      "Epoch 9/50\n",
      "3/3 [==============================] - 1s 172ms/step - loss: 0.0155\n",
      "Epoch 10/50\n",
      "3/3 [==============================] - 1s 180ms/step - loss: 0.0226\n",
      "Epoch 11/50\n",
      "3/3 [==============================] - 1s 187ms/step - loss: 0.0178\n",
      "Epoch 12/50\n",
      "3/3 [==============================] - 1s 172ms/step - loss: 0.0178\n",
      "Epoch 13/50\n",
      "3/3 [==============================] - 1s 180ms/step - loss: 0.0199\n",
      "Epoch 14/50\n",
      "3/3 [==============================] - 1s 180ms/step - loss: 0.0179\n",
      "Epoch 15/50\n",
      "3/3 [==============================] - 1s 172ms/step - loss: 0.0158\n",
      "Epoch 16/50\n",
      "3/3 [==============================] - 1s 172ms/step - loss: 0.0181\n",
      "Epoch 17/50\n",
      "3/3 [==============================] - 1s 180ms/step - loss: 0.0202\n",
      "Epoch 18/50\n",
      "3/3 [==============================] - 1s 180ms/step - loss: 0.0153\n",
      "Epoch 19/50\n",
      "3/3 [==============================] - 1s 172ms/step - loss: 0.0175\n",
      "Epoch 20/50\n",
      "3/3 [==============================] - 1s 177ms/step - loss: 0.0218\n",
      "Epoch 21/50\n",
      "3/3 [==============================] - 1s 180ms/step - loss: 0.0172\n",
      "Epoch 22/50\n",
      "3/3 [==============================] - 1s 180ms/step - loss: 0.0168\n",
      "Epoch 23/50\n",
      "3/3 [==============================] - 1s 176ms/step - loss: 0.0209\n",
      "Epoch 24/50\n",
      "3/3 [==============================] - 1s 180ms/step - loss: 0.0196\n",
      "Epoch 25/50\n",
      "3/3 [==============================] - 1s 187ms/step - loss: 0.0166\n",
      "Epoch 26/50\n",
      "3/3 [==============================] - 1s 164ms/step - loss: 0.0163\n",
      "Epoch 27/50\n",
      "3/3 [==============================] - 1s 167ms/step - loss: 0.0185\n",
      "Epoch 28/50\n",
      "3/3 [==============================] - 1s 175ms/step - loss: 0.0161\n",
      "Epoch 29/50\n",
      "3/3 [==============================] - 1s 172ms/step - loss: 0.0175\n",
      "Epoch 30/50\n",
      "3/3 [==============================] - 1s 164ms/step - loss: 0.0184\n",
      "Epoch 31/50\n",
      "3/3 [==============================] - 1s 183ms/step - loss: 0.0173\n",
      "Epoch 32/50\n",
      "3/3 [==============================] - 1s 180ms/step - loss: 0.0193\n",
      "Epoch 33/50\n",
      "3/3 [==============================] - 1s 164ms/step - loss: 0.0153\n",
      "Epoch 34/50\n",
      "3/3 [==============================] - 1s 164ms/step - loss: 0.0186\n",
      "Epoch 35/50\n",
      "3/3 [==============================] - 1s 187ms/step - loss: 0.0180\n",
      "Epoch 36/50\n",
      "3/3 [==============================] - 1s 180ms/step - loss: 0.0189\n",
      "Epoch 37/50\n",
      "3/3 [==============================] - 1s 180ms/step - loss: 0.0169\n",
      "Epoch 38/50\n",
      "3/3 [==============================] - 1s 180ms/step - loss: 0.0159\n",
      "Epoch 39/50\n",
      "3/3 [==============================] - 1s 172ms/step - loss: 0.0185\n",
      "Epoch 40/50\n",
      "3/3 [==============================] - 1s 172ms/step - loss: 0.0170\n",
      "Epoch 41/50\n",
      "3/3 [==============================] - 1s 156ms/step - loss: 0.0164\n",
      "Epoch 42/50\n",
      "3/3 [==============================] - 1s 172ms/step - loss: 0.0179\n",
      "Epoch 43/50\n",
      "3/3 [==============================] - 1s 172ms/step - loss: 0.0149\n",
      "Epoch 44/50\n",
      "3/3 [==============================] - 1s 172ms/step - loss: 0.0166\n",
      "Epoch 45/50\n",
      "3/3 [==============================] - 1s 173ms/step - loss: 0.0167\n",
      "Epoch 46/50\n",
      "3/3 [==============================] - 1s 172ms/step - loss: 0.0171\n",
      "Epoch 47/50\n",
      "3/3 [==============================] - 1s 164ms/step - loss: 0.0182\n",
      "Epoch 48/50\n",
      "3/3 [==============================] - 1s 164ms/step - loss: 0.0159\n",
      "Epoch 49/50\n",
      "3/3 [==============================] - 1s 172ms/step - loss: 0.0164\n",
      "Epoch 50/50\n",
      "3/3 [==============================] - 1s 196ms/step - loss: 0.0175\n"
     ]
    },
    {
     "data": {
      "text/plain": [
       "<keras.callbacks.History at 0x2abcfbf37c0>"
      ]
     },
     "execution_count": 23,
     "metadata": {},
     "output_type": "execute_result"
    }
   ],
   "source": [
    "model.compile(optimizer=\"adam\",loss=\"mean_squared_error\")\n",
    "model.fit(x_train,y_train,epochs=50)"
   ]
  },
  {
   "cell_type": "code",
   "execution_count": 24,
   "id": "1b0d12f8",
   "metadata": {},
   "outputs": [
    {
     "name": "stdout",
     "output_type": "stream",
     "text": [
      "INFO:tensorflow:Assets written to: keras_model\\assets\n"
     ]
    }
   ],
   "source": [
    "model.save(\"keras_model\")"
   ]
  },
  {
   "cell_type": "code",
   "execution_count": 25,
   "id": "40d4c1e4",
   "metadata": {},
   "outputs": [
    {
     "data": {
      "text/html": [
       "<div>\n",
       "<style scoped>\n",
       "    .dataframe tbody tr th:only-of-type {\n",
       "        vertical-align: middle;\n",
       "    }\n",
       "\n",
       "    .dataframe tbody tr th {\n",
       "        vertical-align: top;\n",
       "    }\n",
       "\n",
       "    .dataframe thead th {\n",
       "        text-align: right;\n",
       "    }\n",
       "</style>\n",
       "<table border=\"1\" class=\"dataframe\">\n",
       "  <thead>\n",
       "    <tr style=\"text-align: right;\">\n",
       "      <th></th>\n",
       "      <th>Close</th>\n",
       "    </tr>\n",
       "  </thead>\n",
       "  <tbody>\n",
       "    <tr>\n",
       "      <th>173</th>\n",
       "      <td>442.250000</td>\n",
       "    </tr>\n",
       "    <tr>\n",
       "      <th>174</th>\n",
       "      <td>449.600006</td>\n",
       "    </tr>\n",
       "    <tr>\n",
       "      <th>175</th>\n",
       "      <td>479.200012</td>\n",
       "    </tr>\n",
       "    <tr>\n",
       "      <th>176</th>\n",
       "      <td>476.250000</td>\n",
       "    </tr>\n",
       "    <tr>\n",
       "      <th>177</th>\n",
       "      <td>467.799988</td>\n",
       "    </tr>\n",
       "  </tbody>\n",
       "</table>\n",
       "</div>"
      ],
      "text/plain": [
       "          Close\n",
       "173  442.250000\n",
       "174  449.600006\n",
       "175  479.200012\n",
       "176  476.250000\n",
       "177  467.799988"
      ]
     },
     "execution_count": 25,
     "metadata": {},
     "output_type": "execute_result"
    }
   ],
   "source": [
    "data_testing.head()"
   ]
  },
  {
   "cell_type": "code",
   "execution_count": 26,
   "id": "9d7a4d33",
   "metadata": {},
   "outputs": [],
   "source": [
    "past_100_days=data_training.tail(100)"
   ]
  },
  {
   "cell_type": "code",
   "execution_count": 27,
   "id": "7ebbc381",
   "metadata": {},
   "outputs": [
    {
     "name": "stderr",
     "output_type": "stream",
     "text": [
      "C:\\Users\\AAYUSH~1\\AppData\\Local\\Temp/ipykernel_16492/3595571042.py:1: FutureWarning: The frame.append method is deprecated and will be removed from pandas in a future version. Use pandas.concat instead.\n",
      "  final_df=past_100_days.append(data_testing,ignore_index=True)\n"
     ]
    }
   ],
   "source": [
    "final_df=past_100_days.append(data_testing,ignore_index=True)"
   ]
  },
  {
   "cell_type": "code",
   "execution_count": 28,
   "id": "0d7ff4f8",
   "metadata": {},
   "outputs": [
    {
     "data": {
      "text/html": [
       "<div>\n",
       "<style scoped>\n",
       "    .dataframe tbody tr th:only-of-type {\n",
       "        vertical-align: middle;\n",
       "    }\n",
       "\n",
       "    .dataframe tbody tr th {\n",
       "        vertical-align: top;\n",
       "    }\n",
       "\n",
       "    .dataframe thead th {\n",
       "        text-align: right;\n",
       "    }\n",
       "</style>\n",
       "<table border=\"1\" class=\"dataframe\">\n",
       "  <thead>\n",
       "    <tr style=\"text-align: right;\">\n",
       "      <th></th>\n",
       "      <th>Close</th>\n",
       "    </tr>\n",
       "  </thead>\n",
       "  <tbody>\n",
       "    <tr>\n",
       "      <th>0</th>\n",
       "      <td>417.250000</td>\n",
       "    </tr>\n",
       "    <tr>\n",
       "      <th>1</th>\n",
       "      <td>394.000000</td>\n",
       "    </tr>\n",
       "    <tr>\n",
       "      <th>2</th>\n",
       "      <td>391.750000</td>\n",
       "    </tr>\n",
       "    <tr>\n",
       "      <th>3</th>\n",
       "      <td>405.899994</td>\n",
       "    </tr>\n",
       "    <tr>\n",
       "      <th>4</th>\n",
       "      <td>419.600006</td>\n",
       "    </tr>\n",
       "  </tbody>\n",
       "</table>\n",
       "</div>"
      ],
      "text/plain": [
       "        Close\n",
       "0  417.250000\n",
       "1  394.000000\n",
       "2  391.750000\n",
       "3  405.899994\n",
       "4  419.600006"
      ]
     },
     "execution_count": 28,
     "metadata": {},
     "output_type": "execute_result"
    }
   ],
   "source": [
    "final_df.head()"
   ]
  },
  {
   "cell_type": "code",
   "execution_count": 29,
   "id": "80cad0da",
   "metadata": {},
   "outputs": [
    {
     "data": {
      "text/plain": [
       "array([[0.38239052],\n",
       "       [0.18460237],\n",
       "       [0.16546158],\n",
       "       [0.28583582],\n",
       "       [0.40238206],\n",
       "       [0.39004678],\n",
       "       [0.33517667],\n",
       "       [0.3517652 ],\n",
       "       [0.44746914],\n",
       "       [0.52318154],\n",
       "       [0.4734157 ],\n",
       "       [0.57890266],\n",
       "       [0.54019558],\n",
       "       [0.51807754],\n",
       "       [0.50871977],\n",
       "       [0.51382403],\n",
       "       [0.52233105],\n",
       "       [0.53891958],\n",
       "       [0.5227563 ],\n",
       "       [0.58570817],\n",
       "       [0.63334752],\n",
       "       [0.72947671],\n",
       "       [0.71331343],\n",
       "       [0.65674181],\n",
       "       [0.6784346 ],\n",
       "       [0.6784346 ],\n",
       "       [0.56146312],\n",
       "       [0.49978725],\n",
       "       [0.52318154],\n",
       "       [0.44789465],\n",
       "       [0.58060391],\n",
       "       [0.64440654],\n",
       "       [0.56614213],\n",
       "       [0.4495959 ],\n",
       "       [0.53253931],\n",
       "       [0.49298174],\n",
       "       [0.54232233],\n",
       "       [0.55550836],\n",
       "       [0.51510003],\n",
       "       [0.43555937],\n",
       "       [0.45937892],\n",
       "       [0.30837937],\n",
       "       [0.26924729],\n",
       "       [0.16546158],\n",
       "       [0.13483627],\n",
       "       [0.        ],\n",
       "       [0.27222454],\n",
       "       [0.28115706],\n",
       "       [0.44108888],\n",
       "       [0.36452573],\n",
       "       [0.22415995],\n",
       "       [0.38877078],\n",
       "       [0.41812009],\n",
       "       [0.45470016],\n",
       "       [0.38026376],\n",
       "       [0.41131432],\n",
       "       [0.48745223],\n",
       "       [0.59634194],\n",
       "       [0.60612496],\n",
       "       [0.61505748],\n",
       "       [0.56869414],\n",
       "       [0.50701826],\n",
       "       [0.51084652],\n",
       "       [0.54062108],\n",
       "       [0.53891958],\n",
       "       [0.47809446],\n",
       "       [0.4742662 ],\n",
       "       [0.29264159],\n",
       "       [0.27945556],\n",
       "       [0.35559346],\n",
       "       [0.1756701 ],\n",
       "       [0.14164204],\n",
       "       [0.08847318],\n",
       "       [0.21522768],\n",
       "       [0.17694611],\n",
       "       [0.2968951 ],\n",
       "       [0.31475963],\n",
       "       [0.35899622],\n",
       "       [0.38111451],\n",
       "       [0.37983851],\n",
       "       [0.33602717],\n",
       "       [0.34368369],\n",
       "       [0.30752887],\n",
       "       [0.33772868],\n",
       "       [0.37473425],\n",
       "       [0.498086  ],\n",
       "       [0.58911093],\n",
       "       [0.55082935],\n",
       "       [0.49553374],\n",
       "       [0.46618468],\n",
       "       [0.4742662 ],\n",
       "       [0.57762666],\n",
       "       [0.66865159],\n",
       "       [0.65291355],\n",
       "       [0.69034463],\n",
       "       [0.70225441],\n",
       "       [0.70267965],\n",
       "       [0.65716706],\n",
       "       [0.58570817],\n",
       "       [0.61037847],\n",
       "       [0.59506594],\n",
       "       [0.65759257],\n",
       "       [0.90940032],\n",
       "       [0.88430452],\n",
       "       [0.81242012],\n",
       "       [0.82177789],\n",
       "       [0.79072733],\n",
       "       [0.81624838],\n",
       "       [0.8783495 ],\n",
       "       [0.88770727],\n",
       "       [0.89536354],\n",
       "       [1.        ],\n",
       "       [0.96214367],\n",
       "       [0.95703941],\n",
       "       [0.83964268],\n",
       "       [0.70012765],\n",
       "       [0.74989375],\n",
       "       [0.77328805],\n",
       "       [0.73925998],\n",
       "       [0.78902583],\n",
       "       [0.68949388],\n",
       "       [0.84049343],\n",
       "       [0.80476386],\n",
       "       [0.76095277],\n",
       "       [0.73755847],\n",
       "       [0.7269247 ],\n",
       "       [0.62569125],\n",
       "       [0.59464069],\n",
       "       [0.6261165 ],\n",
       "       [0.66950234],\n",
       "       [0.71884294],\n",
       "       [0.66269683],\n",
       "       [0.63760103],\n",
       "       [0.51212252],\n",
       "       [0.45214816],\n",
       "       [0.5270098 ],\n",
       "       [0.47086344],\n",
       "       [0.50957052],\n",
       "       [0.43215662],\n",
       "       [0.21437693],\n",
       "       [0.22543595],\n",
       "       [0.22798821],\n",
       "       [0.25478526],\n",
       "       [0.2747768 ],\n",
       "       [0.21565293],\n",
       "       [0.30284986],\n",
       "       [0.35559346],\n",
       "       [0.33900468],\n",
       "       [0.20119116],\n",
       "       [0.17907286],\n",
       "       [0.20629516],\n",
       "       [0.22713746],\n",
       "       [0.20374316],\n",
       "       [0.20246716],\n",
       "       [0.27179929],\n",
       "       [0.2275627 ],\n",
       "       [0.21948119],\n",
       "       [0.21905569],\n",
       "       [0.24925575],\n",
       "       [0.2743513 ],\n",
       "       [0.30114861],\n",
       "       [0.31986389],\n",
       "       [0.34410894],\n",
       "       [0.41726934],\n",
       "       [0.42407485],\n",
       "       [0.3738835 ],\n",
       "       [0.4512974 ],\n",
       "       [0.53339007],\n",
       "       [0.51765203],\n",
       "       [0.33943018],\n",
       "       [0.43555937],\n",
       "       [0.52233105],\n",
       "       [0.5516801 ],\n",
       "       [0.50404076],\n",
       "       [0.43258186]])"
      ]
     },
     "execution_count": 29,
     "metadata": {},
     "output_type": "execute_result"
    }
   ],
   "source": [
    "input_data=scaler.fit_transform(final_df)\n",
    "input_data"
   ]
  },
  {
   "cell_type": "code",
   "execution_count": 30,
   "id": "e7f37e14",
   "metadata": {},
   "outputs": [
    {
     "data": {
      "text/plain": [
       "(175, 1)"
      ]
     },
     "execution_count": 30,
     "metadata": {},
     "output_type": "execute_result"
    }
   ],
   "source": [
    "input_data.shape"
   ]
  },
  {
   "cell_type": "code",
   "execution_count": 31,
   "id": "6e71981f",
   "metadata": {},
   "outputs": [],
   "source": [
    "x_test=[]\n",
    "y_test=[]\n",
    "for i in range(100,input_data.shape[0]):\n",
    "    x_test.append(input_data[i-100:i])\n",
    "    y_test.append(input_data[i,0])"
   ]
  },
  {
   "cell_type": "code",
   "execution_count": 32,
   "id": "d130b653",
   "metadata": {},
   "outputs": [
    {
     "name": "stdout",
     "output_type": "stream",
     "text": [
      "(75, 100, 1)\n",
      "(75,)\n"
     ]
    }
   ],
   "source": [
    "x_test,y_test=np.array(x_test),np.array(y_test)\n",
    "print(x_test.shape)\n",
    "print(y_test.shape)"
   ]
  },
  {
   "cell_type": "code",
   "execution_count": 33,
   "id": "8a19ebfc",
   "metadata": {},
   "outputs": [
    {
     "name": "stdout",
     "output_type": "stream",
     "text": [
      "3/3 [==============================] - 1s 39ms/step\n"
     ]
    }
   ],
   "source": [
    "y_predicted=model.predict(x_test)"
   ]
  },
  {
   "cell_type": "code",
   "execution_count": 34,
   "id": "25300a19",
   "metadata": {},
   "outputs": [
    {
     "data": {
      "text/plain": [
       "(75, 1)"
      ]
     },
     "execution_count": 34,
     "metadata": {},
     "output_type": "execute_result"
    }
   ],
   "source": [
    "y_predicted.shape"
   ]
  },
  {
   "cell_type": "code",
   "execution_count": 35,
   "id": "d82623e4",
   "metadata": {},
   "outputs": [
    {
     "data": {
      "text/plain": [
       "array([0.59506594, 0.65759257, 0.90940032, 0.88430452, 0.81242012,\n",
       "       0.82177789, 0.79072733, 0.81624838, 0.8783495 , 0.88770727,\n",
       "       0.89536354, 1.        , 0.96214367, 0.95703941, 0.83964268,\n",
       "       0.70012765, 0.74989375, 0.77328805, 0.73925998, 0.78902583,\n",
       "       0.68949388, 0.84049343, 0.80476386, 0.76095277, 0.73755847,\n",
       "       0.7269247 , 0.62569125, 0.59464069, 0.6261165 , 0.66950234,\n",
       "       0.71884294, 0.66269683, 0.63760103, 0.51212252, 0.45214816,\n",
       "       0.5270098 , 0.47086344, 0.50957052, 0.43215662, 0.21437693,\n",
       "       0.22543595, 0.22798821, 0.25478526, 0.2747768 , 0.21565293,\n",
       "       0.30284986, 0.35559346, 0.33900468, 0.20119116, 0.17907286,\n",
       "       0.20629516, 0.22713746, 0.20374316, 0.20246716, 0.27179929,\n",
       "       0.2275627 , 0.21948119, 0.21905569, 0.24925575, 0.2743513 ,\n",
       "       0.30114861, 0.31986389, 0.34410894, 0.41726934, 0.42407485,\n",
       "       0.3738835 , 0.4512974 , 0.53339007, 0.51765203, 0.33943018,\n",
       "       0.43555937, 0.52233105, 0.5516801 , 0.50404076, 0.43258186])"
      ]
     },
     "execution_count": 35,
     "metadata": {},
     "output_type": "execute_result"
    }
   ],
   "source": [
    "y_test"
   ]
  },
  {
   "cell_type": "code",
   "execution_count": 36,
   "id": "382da2c6",
   "metadata": {},
   "outputs": [
    {
     "data": {
      "text/plain": [
       "array([[0.33247486],\n",
       "       [0.33253375],\n",
       "       [0.33256322],\n",
       "       [0.33262268],\n",
       "       [0.33276424],\n",
       "       [0.33300236],\n",
       "       [0.33333337],\n",
       "       [0.3337358 ],\n",
       "       [0.3341889 ],\n",
       "       [0.33468607],\n",
       "       [0.33522275],\n",
       "       [0.33579352],\n",
       "       [0.33641204],\n",
       "       [0.3370785 ],\n",
       "       [0.33778334],\n",
       "       [0.33848658],\n",
       "       [0.33912167],\n",
       "       [0.33964598],\n",
       "       [0.3400428 ],\n",
       "       [0.34030545],\n",
       "       [0.3404487 ],\n",
       "       [0.34047422],\n",
       "       [0.34041846],\n",
       "       [0.34031287],\n",
       "       [0.34017345],\n",
       "       [0.34000543],\n",
       "       [0.33980998],\n",
       "       [0.33956882],\n",
       "       [0.33926338],\n",
       "       [0.33889017],\n",
       "       [0.33846366],\n",
       "       [0.3380129 ],\n",
       "       [0.33755562],\n",
       "       [0.33709964],\n",
       "       [0.33662647],\n",
       "       [0.33610693],\n",
       "       [0.3355356 ],\n",
       "       [0.3349094 ],\n",
       "       [0.33424026],\n",
       "       [0.33353165],\n",
       "       [0.33277085],\n",
       "       [0.33195874],\n",
       "       [0.33111224],\n",
       "       [0.3302618 ],\n",
       "       [0.32944635],\n",
       "       [0.32870188],\n",
       "       [0.3280651 ],\n",
       "       [0.3275627 ],\n",
       "       [0.32720432],\n",
       "       [0.32698065],\n",
       "       [0.32688174],\n",
       "       [0.3269026 ],\n",
       "       [0.3270428 ],\n",
       "       [0.32730034],\n",
       "       [0.32767257],\n",
       "       [0.3281575 ],\n",
       "       [0.3287445 ],\n",
       "       [0.32941896],\n",
       "       [0.3301655 ],\n",
       "       [0.33097008],\n",
       "       [0.3318182 ],\n",
       "       [0.33269313],\n",
       "       [0.33357486],\n",
       "       [0.33444118],\n",
       "       [0.33527073],\n",
       "       [0.33603737],\n",
       "       [0.33671013],\n",
       "       [0.337267  ],\n",
       "       [0.33770117],\n",
       "       [0.33800507],\n",
       "       [0.33815366],\n",
       "       [0.33814022],\n",
       "       [0.3379825 ],\n",
       "       [0.33771005],\n",
       "       [0.33734187]], dtype=float32)"
      ]
     },
     "execution_count": 36,
     "metadata": {},
     "output_type": "execute_result"
    }
   ],
   "source": [
    "y_predicted"
   ]
  },
  {
   "cell_type": "code",
   "execution_count": 37,
   "id": "d81a720b",
   "metadata": {},
   "outputs": [
    {
     "data": {
      "text/plain": [
       "array([0.00850702])"
      ]
     },
     "execution_count": 37,
     "metadata": {},
     "output_type": "execute_result"
    }
   ],
   "source": [
    "scaler.scale_"
   ]
  },
  {
   "cell_type": "code",
   "execution_count": 38,
   "id": "aa369404",
   "metadata": {},
   "outputs": [],
   "source": [
    "scale_factor=1/0.0122459\n",
    "y_predicted=y_predicted*scale_factor\n",
    "y_test=y_test*scale_factor"
   ]
  },
  {
   "cell_type": "code",
   "execution_count": 40,
   "id": "e439a169",
   "metadata": {},
   "outputs": [
    {
     "data": {
      "image/png": "[encoded data removed]",
      "text/plain": [
       "<Figure size 864x432 with 1 Axes>"
      ]
     },
     "metadata": {
      "needs_background": "light"
     },
     "output_type": "display_data"
    }
   ],
   "source": [
    "plt.figure(figsize=(12,6))\n",
    "plt.plot(y_test,\"r\",label=\"Original price\")\n",
    "plt.plot(y_predicted,\"b\",label='Predicted price')\n",
    "plt.xlabel(\"Time\")\n",
    "plt.ylabel(\"Price\")\n",
    "plt.legend()\n",
    "plt.show()"
   ]
  },
  {
   "cell_type": "code",
   "execution_count": null,
   "id": "876df288",
   "metadata": {},
   "outputs": [],
   "source": []
  },
  {
   "cell_type": "code",
   "execution_count": null,
   "id": "1e520b7e",
   "metadata": {},
   "outputs": [],
   "source": []
  }
 ],
 "metadata": {
  "kernelspec": {
   "display_name": "Python 3 (ipykernel)",
   "language": "python",
   "name": "python3"
  },
  "language_info": {
   "codemirror_mode": {
    "name": "ipython",
    "version": 3
   },
   "file_extension": ".py",
   "mimetype": "text/x-python",
   "name": "python",
   "nbconvert_exporter": "python",
   "pygments_lexer": "ipython3",
   "version": "3.9.7"
  }
 },
 "nbformat": 4,
 "nbformat_minor": 5
}
